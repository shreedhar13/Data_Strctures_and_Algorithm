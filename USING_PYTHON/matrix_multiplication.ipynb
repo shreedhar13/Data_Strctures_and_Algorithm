{
 "cells": [
  {
   "cell_type": "code",
   "execution_count": 22,
   "id": "b1b4e511",
   "metadata": {},
   "outputs": [],
   "source": [
    "import numpy as np"
   ]
  },
  {
   "cell_type": "code",
   "execution_count": 23,
   "id": "68b2ff73",
   "metadata": {},
   "outputs": [],
   "source": [
    "m1=[[1,2,3],[4,5,6],[7,8,9]]\n",
    "m2=[[4,5,6],[7,10,11],[2,1,3]]\n",
    "m1=np.array(m1)\n",
    "m2=np.array(m2)"
   ]
  },
  {
   "cell_type": "code",
   "execution_count": 24,
   "id": "37874b9b",
   "metadata": {},
   "outputs": [
    {
     "data": {
      "text/plain": [
       "array([[0., 0., 0.],\n",
       "       [0., 0., 0.],\n",
       "       [0., 0., 0.]])"
      ]
     },
     "execution_count": 24,
     "metadata": {},
     "output_type": "execute_result"
    }
   ],
   "source": [
    "m1_rows=m1.shape[0]\n",
    "m2_rows=m2.shape[0]\n",
    "m1_cols=m1.shape[1]\n",
    "m2_cols=m2.shape[1]\n",
    "m3=np.zeros((m1_rows,m2_cols))\n",
    "m3\n",
    "# m3=[]->if u use this instead above m3 initialization,then index out of rage error we get...bcz m3 is empty list and we are accessing me[row][col],which is not valid index to access so give error,,,thus use above intialization method"
   ]
  },
  {
   "cell_type": "code",
   "execution_count": 25,
   "id": "d6827d36",
   "metadata": {},
   "outputs": [
    {
     "name": "stdout",
     "output_type": "stream",
     "text": [
      "[[ 24.  28.  37.]\n",
      " [ 63.  76.  97.]\n",
      " [102. 124. 157.]]\n"
     ]
    }
   ],
   "source": [
    "if m1_cols == m2_rows:\n",
    "    for row in range(m1_rows):\n",
    "        for col in range(m2_cols):\n",
    "            for k in range(m2_rows):\n",
    "                m3[row][col]+=m1[row][k]*m2[k][col]\n",
    "                 \n",
    "print(m3)\n",
    "            "
   ]
  },
  {
   "cell_type": "code",
   "execution_count": null,
   "id": "2d90b951",
   "metadata": {},
   "outputs": [],
   "source": [
    " "
   ]
  }
 ],
 "metadata": {
  "kernelspec": {
   "display_name": "Python 3 (ipykernel)",
   "language": "python",
   "name": "python3"
  },
  "language_info": {
   "codemirror_mode": {
    "name": "ipython",
    "version": 3
   },
   "file_extension": ".py",
   "mimetype": "text/x-python",
   "name": "python",
   "nbconvert_exporter": "python",
   "pygments_lexer": "ipython3",
   "version": "3.11.4"
  }
 },
 "nbformat": 4,
 "nbformat_minor": 5
}
