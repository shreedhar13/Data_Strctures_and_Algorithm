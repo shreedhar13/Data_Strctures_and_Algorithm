{
 "cells": [
  {
   "cell_type": "code",
   "execution_count": 8,
   "id": "ca8d069e",
   "metadata": {},
   "outputs": [
    {
     "name": "stdout",
     "output_type": "stream",
     "text": [
      "Enter lower bound: 2\n",
      "Enter highest bound: 15\n",
      "Prime numbers between 2 and 15 are: [2, 3, 5, 7, 11, 13]\n"
     ]
    }
   ],
   "source": [
    "x = int(input('Enter lower bound: '))\n",
    "y = int(input('Enter highest bound: '))\n",
    "\n",
    "if x == y:\n",
    "    print('Provide valid input: lower and upper bounds cannot be equal.')\n",
    "elif x > y:\n",
    "    print('Provide valid input: lower bound should be less than the upper bound.')\n",
    "else:\n",
    "    prime_numbers = []\n",
    "\n",
    "    for num in range(x, y + 1):\n",
    "        divisors = []\n",
    "        for i in range(1, num + 1):\n",
    "            if num % i == 0:\n",
    "                divisors.append(i)\n",
    "        if len(divisors) == 2:\n",
    "            prime_numbers.append(num)\n",
    "\n",
    "    print(\"Prime numbers between\", x, \"and\", y, \"are:\", prime_numbers)\n"
   ]
  },
  {
   "cell_type": "code",
   "execution_count": null,
   "id": "2b9b7f93",
   "metadata": {},
   "outputs": [],
   "source": []
  }
 ],
 "metadata": {
  "kernelspec": {
   "display_name": "Python 3 (ipykernel)",
   "language": "python",
   "name": "python3"
  },
  "language_info": {
   "codemirror_mode": {
    "name": "ipython",
    "version": 3
   },
   "file_extension": ".py",
   "mimetype": "text/x-python",
   "name": "python",
   "nbconvert_exporter": "python",
   "pygments_lexer": "ipython3",
   "version": "3.11.4"
  }
 },
 "nbformat": 4,
 "nbformat_minor": 5
}
