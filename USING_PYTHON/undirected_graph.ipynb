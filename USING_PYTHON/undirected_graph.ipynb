{
 "cells": [
  {
   "cell_type": "code",
   "execution_count": 16,
   "id": "7a7b3d85",
   "metadata": {},
   "outputs": [],
   "source": [
    "Graph={}\n",
    "\n",
    "def add_node(v):\n",
    "    if v in Graph:\n",
    "        print(v,'already present,no need to add')\n",
    "    else:\n",
    "        Graph[v]=[]\n",
    "\n",
    "def add_edge(v1,v2):\n",
    "    if v1 not in Graph:\n",
    "        print(v1,'is not present ,,first add this vertices to graph')\n",
    "    elif v2 not in Graph:\n",
    "        print(v2,'is not present ,,first add this vertices to graph')\n",
    "    elif v2 in Graph[v1] or v1 in Graph[v2] :\n",
    "        print(v1,'to',v2,'edge already present .')\n",
    "        \n",
    "    else:\n",
    "        Graph[v1].append(v2)\n",
    "        Graph[v2].append(v1)\n"
   ]
  },
  {
   "cell_type": "code",
   "execution_count": 17,
   "id": "f69e2f8a",
   "metadata": {},
   "outputs": [
    {
     "name": "stdout",
     "output_type": "stream",
     "text": [
      "D to E edge already present .\n",
      "{'A': ['B', 'C'], 'B': ['A', 'D', 'E'], 'C': ['A', 'D'], 'D': ['B', 'C', 'E'], 'E': ['B', 'D']}\n"
     ]
    }
   ],
   "source": [
    "if __name__==\"__main__\":\n",
    "    add_node('A')\n",
    "    add_node('B')\n",
    "    add_node('C')\n",
    "    add_node('D')\n",
    "    add_node('E')\n",
    "    \n",
    "    add_edge('A','B')#A to B\n",
    "    add_edge('A','C')\n",
    "    add_edge('B','D')\n",
    "    add_edge('B','E')\n",
    "    add_edge('D','C')\n",
    "    add_edge('D','E')\n",
    "    add_edge('D','E')\n",
    "    print(Graph)"
   ]
  },
  {
   "cell_type": "markdown",
   "id": "41bd61d8",
   "metadata": {},
   "source": [
    "# DFS using stack (iterative approach)"
   ]
  },
  {
   "cell_type": "code",
   "execution_count": 14,
   "id": "a6bb5ed3",
   "metadata": {},
   "outputs": [
    {
     "name": "stdout",
     "output_type": "stream",
     "text": [
      "A ->C ->D ->E ->B"
     ]
    }
   ],
   "source": [
    "def dfs(s):\n",
    "    visited=set()\n",
    "    if s not in Graph:\n",
    "        print('invaild source node')\n",
    "        return\n",
    "    stack=[]\n",
    "    dfs=[]\n",
    "    stack.append(s)\n",
    "    while stack:\n",
    "        current=stack.pop()\n",
    "        if current not in visited:\n",
    "            visited.add(current)\n",
    "            dfs.append(current)\n",
    "            for i in Graph[current]:\n",
    "                if i not in stack:\n",
    "                    stack.append(i)\n",
    "    for count,e in enumerate(dfs):\n",
    "        if count != len(dfs)-1:\n",
    "            print(e,'->',end='')\n",
    "        else:\n",
    "            print(e,end='')\n",
    "    \n",
    "dfs('A')\n",
    "        "
   ]
  },
  {
   "cell_type": "markdown",
   "id": "80f568bb",
   "metadata": {},
   "source": [
    "# DFS using recursion"
   ]
  },
  {
   "cell_type": "code",
   "execution_count": 20,
   "id": "85e69947",
   "metadata": {},
   "outputs": [
    {
     "name": "stdout",
     "output_type": "stream",
     "text": [
      "A ->B ->D ->C ->E\n"
     ]
    }
   ],
   "source": [
    "visited2=set()\n",
    "dfs_r_path=[]\n",
    "def dfs_r(s):\n",
    "    if s not in Graph:\n",
    "        return\n",
    "    if s not in visited2:\n",
    "        visited2.add(s)\n",
    "        dfs_r_path.append(s)\n",
    "        for i in Graph[s]:\n",
    "            dfs_r(i)\n",
    "    \n",
    "dfs_r('A')\n",
    "for count,e in enumerate(dfs_r_path):\n",
    "    if count != len(dfs_r_path)-1:\n",
    "        print(e,'->',end='')\n",
    "    else:\n",
    "        print(e)"
   ]
  },
  {
   "cell_type": "code",
   "execution_count": null,
   "id": "06dcb341",
   "metadata": {},
   "outputs": [],
   "source": []
  }
 ],
 "metadata": {
  "kernelspec": {
   "display_name": "Python 3 (ipykernel)",
   "language": "python",
   "name": "python3"
  },
  "language_info": {
   "codemirror_mode": {
    "name": "ipython",
    "version": 3
   },
   "file_extension": ".py",
   "mimetype": "text/x-python",
   "name": "python",
   "nbconvert_exporter": "python",
   "pygments_lexer": "ipython3",
   "version": "3.11.4"
  }
 },
 "nbformat": 4,
 "nbformat_minor": 5
}
