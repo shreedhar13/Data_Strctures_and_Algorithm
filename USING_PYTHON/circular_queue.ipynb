{
 "cells": [
  {
   "cell_type": "code",
   "execution_count": 17,
   "id": "d9bf167d",
   "metadata": {},
   "outputs": [],
   "source": [
    "import numpy as np"
   ]
  },
  {
   "cell_type": "code",
   "execution_count": 6,
   "id": "b4b7d979",
   "metadata": {},
   "outputs": [],
   "source": [
    "q=[1,2,3,4]"
   ]
  },
  {
   "cell_type": "code",
   "execution_count": 7,
   "id": "5d14ad3d",
   "metadata": {},
   "outputs": [
    {
     "data": {
      "text/plain": [
       "4"
      ]
     },
     "execution_count": 7,
     "metadata": {},
     "output_type": "execute_result"
    }
   ],
   "source": [
    "len(q)\n",
    "#len(list) ->inbuilt function\n",
    "#in numpy array q=np.array([]) ->  q.size    ->inbuilt attribute "
   ]
  },
  {
   "cell_type": "markdown",
   "id": "5b1f1103",
   "metadata": {},
   "source": [
    "# circular queue"
   ]
  },
  {
   "cell_type": "code",
   "execution_count": 34,
   "id": "4c0572ef",
   "metadata": {},
   "outputs": [],
   "source": [
    "size=5\n",
    "queue=np.zeros(shape=(size,),dtype=int)"
   ]
  },
  {
   "cell_type": "code",
   "execution_count": 35,
   "id": "aa9c4853",
   "metadata": {},
   "outputs": [
    {
     "data": {
      "text/plain": [
       "array([0, 0, 0, 0, 0])"
      ]
     },
     "execution_count": 35,
     "metadata": {},
     "output_type": "execute_result"
    }
   ],
   "source": [
    "queue"
   ]
  },
  {
   "cell_type": "code",
   "execution_count": null,
   "id": "34bb3787",
   "metadata": {},
   "outputs": [],
   "source": []
  }
 ],
 "metadata": {
  "kernelspec": {
   "display_name": "Python 3 (ipykernel)",
   "language": "python",
   "name": "python3"
  },
  "language_info": {
   "codemirror_mode": {
    "name": "ipython",
    "version": 3
   },
   "file_extension": ".py",
   "mimetype": "text/x-python",
   "name": "python",
   "nbconvert_exporter": "python",
   "pygments_lexer": "ipython3",
   "version": "3.11.4"
  }
 },
 "nbformat": 4,
 "nbformat_minor": 5
}
